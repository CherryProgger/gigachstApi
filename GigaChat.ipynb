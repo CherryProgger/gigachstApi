{
  "nbformat": 4,
  "nbformat_minor": 0,
  "metadata": {
    "colab": {
      "provenance": [],
      "authorship_tag": "ABX9TyMq3v6i2Wgeo+ZWMfqVv6EM",
      "include_colab_link": true
    },
    "kernelspec": {
      "name": "python3",
      "display_name": "Python 3"
    },
    "language_info": {
      "name": "python"
    }
  },
  "cells": [
    {
      "cell_type": "markdown",
      "metadata": {
        "id": "view-in-github",
        "colab_type": "text"
      },
      "source": [
        "<a href=\"https://colab.research.google.com/github/CherryProgger/gigachstApi/blob/main/GigaChat.ipynb\" target=\"_parent\"><img src=\"https://colab.research.google.com/assets/colab-badge.svg\" alt=\"Open In Colab\"/></a>"
      ]
    },
    {
      "cell_type": "code",
      "source": [
        "! pip install requests"
      ],
      "metadata": {
        "collapsed": true,
        "colab": {
          "base_uri": "https://localhost:8080/"
        },
        "id": "dXysEhWDWNrU",
        "outputId": "d9bea4f4-cd2d-43d2-99e8-1051a1604076"
      },
      "execution_count": null,
      "outputs": [
        {
          "output_type": "stream",
          "name": "stdout",
          "text": [
            "Requirement already satisfied: requests in /usr/local/lib/python3.10/dist-packages (2.32.3)\n",
            "Requirement already satisfied: charset-normalizer<4,>=2 in /usr/local/lib/python3.10/dist-packages (from requests) (3.3.2)\n",
            "Requirement already satisfied: idna<4,>=2.5 in /usr/local/lib/python3.10/dist-packages (from requests) (3.7)\n",
            "Requirement already satisfied: urllib3<3,>=1.21.1 in /usr/local/lib/python3.10/dist-packages (from requests) (2.0.7)\n",
            "Requirement already satisfied: certifi>=2017.4.17 in /usr/local/lib/python3.10/dist-packages (from requests) (2024.7.4)\n"
          ]
        }
      ]
    },
    {
      "cell_type": "code",
      "execution_count": null,
      "metadata": {
        "id": "oZG2IyjQUBSS",
        "collapsed": true
      },
      "outputs": [],
      "source": [
        "client_id = 'f9493b5e-85c4-4d46-b0ed-7cce9719f89d'\n",
        "secret = '7e78f1cb-8a5f-4850-bd13-015aca7edfda'\n",
        "auth = 'Zjk0OTNiNWUtODVjNC00ZDQ2LWIwZWQtN2NjZTk3MTlmODlkOjdlNzhmMWNiLThhNWYtNDg1MC1iZDEzLTAxNWFjYTdlZGZkYQ=='"
      ]
    },
    {
      "cell_type": "code",
      "source": [
        "import requests\n",
        "import uuid\n",
        "\n",
        "def get_token(auth_token, scope='GIGACHAT_API_PERS'):\n",
        "    rq_uid = str(uuid.uuid4())\n",
        "\n",
        "    url = \"https://ngw.devices.sberbank.ru:9443/api/v2/oauth\"\n",
        "\n",
        "    headers = {\n",
        "        'Content-Type': 'application/x-www-form-urlencoded',\n",
        "        'Accept': 'application/json',\n",
        "        'RqUID': rq_uid,\n",
        "        'Authorization': f'Basic {auth_token}'\n",
        "    }\n",
        "\n",
        "    payload = {\n",
        "        'scope': scope\n",
        "    }\n",
        "\n",
        "    try:\n",
        "        response = requests.post(url, headers=headers, data=payload, verify=False)\n",
        "        return response\n",
        "    except requests.RequestException as e:\n",
        "        print(f\"Ошибка: {str(e)}\")\n",
        "        return -1"
      ],
      "metadata": {
        "id": "WycnEpNVZqQY"
      },
      "execution_count": null,
      "outputs": []
    },
    {
      "cell_type": "code",
      "source": [
        "response = get_token(auth)\n",
        "if response != 1:\n",
        "  print(response.text)\n",
        "  giga_token = response.json()['access_token']"
      ],
      "metadata": {
        "collapsed": true,
        "colab": {
          "base_uri": "https://localhost:8080/"
        },
        "id": "Y5lH67sNZ3i5",
        "outputId": "6de8b866-5afd-43a2-f725-1cbf11f5c6c0"
      },
      "execution_count": null,
      "outputs": [
        {
          "output_type": "stream",
          "name": "stdout",
          "text": [
            "{\"access_token\":\"eyJjdHkiOiJqd3QiLCJlbmMiOiJBMjU2Q0JDLUhTNTEyIiwiYWxnIjoiUlNBLU9BRVAtMjU2In0.VHFpVJSc_eBS-QiY14PYENct3cFYdT3pGyHQsXY3NavO_37YjCncTJg_v9x9J8zMbL79LNp5bu6kLUPUifklWWD7zFqJS3OMuoSojJ8WhXbb7YPJJmFKLqfpk16BGs-WSYjnUx0pnEb0zzXsLE9obzODQolMsdwk4PRFvDBm89RAGMITqRAhjfUfzX1Oe5J9gDbugcjMTR5Mn64pdjhbTkHoBm66cwjaxvj6vFHYJeMWaeuO8TGLQCrNLwe6cH-AG_dVqgrCMJXGfEeDREJpxY2C6PtW8rVCRoeevr4WmWyK9V-DiHBFHQbv__NIOF56WLqpgUPpa2qK_K3TAHg1tg.Y6W5O1Af1GTm3Q_uBSQl4g.W5QoI9i-8e6pa1rGmWLKAzBo090Z7orqyi5bpDu1Taes2zne7GDIdLz2YQshWv5d9x_QiWTaBfL2PZoY_qGxaQmDpFGwVgbW3fJ8pgprhApBU9OWbUve4LVfI8DX5EZNKR5HAdnmfrZ1hbMXS9NB69oulj8GsAHzMrJ12ORECdDto2Kh1iL-4swBUDPBdZZf-LTcVECkVHPGiVewzBCv_RNQozJ3XOEsUOKECudNnbcRwWUiOX2m2bSr_s6LUNBt7GEsB1V5PaWyIpZ6rz-ImvYrPv_Gzh7ZhWjW3tS5oAX4LKCGBHE9srTOgWEcqdmozGL3S1FwZZXe3kZBmZ0GuIEneDEyaHIfajtnpxMV4zRbnsLHPbXiKwM2hItaZdFl-4ChEMur7KVRk3SQaYmykzOOvv7X7kNL5fgQX77Qe49TVt7wK09uctt_wFVshcb9WsqB-c5UWQdLuiVtGRG9PXJX4DPvjPkRaZ433TvuTeS6KecF42GtPOhIzTdrCOLqbiAuLZnx2ZNss3VJ_jRiWx50tro99GC2r9aYDIMwlxurKJXwYKJrqM5nxRkMXER1MY-o_rrxAtZdTrAH6nG1p7upW2OatLhEE9NiaGcE4vSrafshd822RTbVPZ4AxnAS5ADvzwvAdfEZKFuP40dT2B3sOKDWjWJCbn9oIWuCCLMfQYQHA4Qu7pv7oldZKtEcbT4F-HDES1tcxwCjNKw-XV7bLbBXoP6BJtfD69EUAMw.7wdy0xZeeiejk-mxztJgqNCZjbFle2JMIZH9BUST46k\",\"expires_at\":1723649423997}\n"
          ]
        },
        {
          "output_type": "stream",
          "name": "stderr",
          "text": [
            "/usr/local/lib/python3.10/dist-packages/urllib3/connectionpool.py:1100: InsecureRequestWarning: Unverified HTTPS request is being made to host 'ngw.devices.sberbank.ru'. Adding certificate verification is strongly advised. See: https://urllib3.readthedocs.io/en/latest/advanced-usage.html#tls-warnings\n",
            "  warnings.warn(\n"
          ]
        }
      ]
    },
    {
      "cell_type": "code",
      "source": [
        "import requests\n",
        "import json\n",
        "\n",
        "def get_chat_completion(auth_token, user_message):\n",
        "    url = \"https://gigachat.devices.sberbank.ru/api/v1/chat/completions\"\n",
        "\n",
        "    payload = json.dumps({\n",
        "        \"model\": \"GigaChat\",\n",
        "        \"messages\": [\n",
        "            {\n",
        "                \"role\": \"user\",\n",
        "                \"content\": user_message\n",
        "            }\n",
        "        ],\n",
        "        \"temperature\": 1,\n",
        "        \"top_p\": 0.1,\n",
        "        \"n\": 1,\n",
        "        \"stream\": False,\n",
        "        \"max_tokens\": 512,\n",
        "        \"repetition_penalty\": 1,\n",
        "        \"update_interval\": 0\n",
        "    })\n",
        "\n",
        "    headers = {\n",
        "        'Content-Type': 'application/json',\n",
        "        'Accept': 'application/json',\n",
        "        'Authorization': f'Bearer {auth_token}'\n",
        "    }\n",
        "\n",
        "    files = {}\n",
        "    if file_path:\n",
        "        with open(file_path, 'rb') as file:\n",
        "            files['file'] = file\n",
        "\n",
        "    try:\n",
        "        response = requests.request(\"POST\", url, headers=headers, data=payload, verify=False)\n",
        "        return response\n",
        "    except requests.RequestException as e:\n",
        "        print(f\"Произошла ошибка: {str(e)}\")\n",
        "        return -1"
      ],
      "metadata": {
        "id": "97-dGuSPZ6Mb"
      },
      "execution_count": null,
      "outputs": []
    },
    {
      "cell_type": "code",
      "source": [
        "answer = get_chat_completion(giga_token, 'Как на Пайтоне сделать GET запрос?')"
      ],
      "metadata": {
        "colab": {
          "base_uri": "https://localhost:8080/"
        },
        "id": "6l-_Avbya7-K",
        "outputId": "be34a269-77f3-41d2-dcca-fe730793dfc8"
      },
      "execution_count": null,
      "outputs": [
        {
          "output_type": "stream",
          "name": "stderr",
          "text": [
            "/usr/local/lib/python3.10/dist-packages/urllib3/connectionpool.py:1100: InsecureRequestWarning: Unverified HTTPS request is being made to host 'gigachat.devices.sberbank.ru'. Adding certificate verification is strongly advised. See: https://urllib3.readthedocs.io/en/latest/advanced-usage.html#tls-warnings\n",
            "  warnings.warn(\n"
          ]
        }
      ]
    },
    {
      "cell_type": "code",
      "source": [
        "answer.json()"
      ],
      "metadata": {
        "colab": {
          "base_uri": "https://localhost:8080/"
        },
        "id": "JXxdrNZRbBr2",
        "outputId": "89bce1d2-672c-4682-e895-e59a99b92064",
        "collapsed": true
      },
      "execution_count": null,
      "outputs": [
        {
          "output_type": "execute_result",
          "data": {
            "text/plain": [
              "{'choices': [{'message': {'content': 'Для выполнения GET-запроса на Python можно использовать библиотеку requests. Вот пример кода:\\n\\n```python\\nimport requests\\n\\nurl = \\'https://example.com/path\\'\\n\\nresponse = requests.get(url)\\n\\nif response.status_code == 200:\\n    print(response.text)\\nelse:\\n    print(f\"Ошибка: {response.status_code}\")\\n```\\n\\nВ этом примере:\\n\\n- `requests` — это библиотека для работы с HTTP-запросами.\\n- `get` — это метод, который используется для выполнения GET-запроса.\\n- `url` — это URL, на который отправляется запрос.\\n- `response` — это объект, который содержит информацию о запросе.\\n- `response.status_code` — это код состояния HTTP, который возвращается сервером.\\n- `response.text` — это текст ответа сервера.\\n\\nЕсли сервер возвращает код состояния 200, это означает, что запрос был успешным, и в `response.text` будет содержаться текст ответа сервера. Если сервер возвращает другой код состояния, это означает, что запрос не был успешным, и в `response.text` будет содержаться сообщение об ошибке.',\n",
              "    'role': 'assistant'},\n",
              "   'index': 0,\n",
              "   'finish_reason': 'stop'}],\n",
              " 'created': 1723647909,\n",
              " 'model': 'GigaChat:3.1.25.3',\n",
              " 'object': 'chat.completion',\n",
              " 'usage': {'prompt_tokens': 20, 'completion_tokens': 286, 'total_tokens': 306}}"
            ]
          },
          "metadata": {},
          "execution_count": 21
        }
      ]
    },
    {
      "cell_type": "code",
      "source": [
        "print(answer.json()['choices'][0]['message']['content'])"
      ],
      "metadata": {
        "colab": {
          "base_uri": "https://localhost:8080/"
        },
        "id": "PRQ7EQ72bHqD",
        "outputId": "246b2cfb-c60b-404b-b7be-1d3eeb61855c"
      },
      "execution_count": null,
      "outputs": [
        {
          "output_type": "stream",
          "name": "stdout",
          "text": [
            "Для выполнения GET-запроса на Python можно использовать библиотеку requests. Вот пример кода:\n",
            "\n",
            "```python\n",
            "import requests\n",
            "\n",
            "url = 'https://example.com/path'\n",
            "\n",
            "response = requests.get(url)\n",
            "\n",
            "if response.status_code == 200:\n",
            "    print(response.text)\n",
            "else:\n",
            "    print(f\"Ошибка: {response.status_code}\")\n",
            "```\n",
            "\n",
            "В этом примере:\n",
            "\n",
            "- `requests` — это библиотека для работы с HTTP-запросами.\n",
            "- `get` — это метод, который используется для выполнения GET-запроса.\n",
            "- `url` — это URL, на который отправляется запрос.\n",
            "- `response` — это объект, который содержит информацию о запросе.\n",
            "- `response.status_code` — это код состояния HTTP, который возвращается сервером.\n",
            "- `response.text` — это текст ответа сервера.\n",
            "\n",
            "Если сервер возвращает код состояния 200, это означает, что запрос был успешным, и в `response.text` будет содержаться текст ответа сервера. Если сервер возвращает другой код состояния, это означает, что запрос не был успешным, и в `response.text` будет содержаться сообщение об ошибке.\n"
          ]
        }
      ]
    },
    {
      "cell_type": "code",
      "source": [
        "import requests\n",
        "\n",
        "url = \"https://gigachat.devices.sberbank.ru/api/v1/models\"\n",
        "\n",
        "payload={}\n",
        "headers = {\n",
        "  'Accept': 'application/json',\n",
        "  'Authorization': f'Bearer {giga_token}'\n",
        "}\n",
        "\n",
        "response = requests.request(\"GET\", url, headers=headers, data=payload, verify=False)\n",
        "\n",
        "print(response.text)"
      ],
      "metadata": {
        "colab": {
          "base_uri": "https://localhost:8080/"
        },
        "collapsed": true,
        "id": "lj96BfPDbL7v",
        "outputId": "e2e91db9-e4a6-440d-c0fb-2419b7606d58"
      },
      "execution_count": null,
      "outputs": [
        {
          "output_type": "stream",
          "name": "stdout",
          "text": [
            "{\"status\":401,\"message\":\"Token has expired\"}\n",
            "\n"
          ]
        },
        {
          "output_type": "stream",
          "name": "stderr",
          "text": [
            "/usr/local/lib/python3.10/dist-packages/urllib3/connectionpool.py:1100: InsecureRequestWarning: Unverified HTTPS request is being made to host 'gigachat.devices.sberbank.ru'. Adding certificate verification is strongly advised. See: https://urllib3.readthedocs.io/en/latest/advanced-usage.html#tls-warnings\n",
            "  warnings.warn(\n"
          ]
        }
      ]
    },
    {
      "cell_type": "code",
      "source": [
        "file_path = '/content/drive/MyDrive/Colab Notebooks/TFKP_k_izd__kopia.pdf'"
      ],
      "metadata": {
        "id": "r3-DFZIdrFIW"
      },
      "execution_count": null,
      "outputs": []
    },
    {
      "cell_type": "code",
      "source": [
        "import requests\n",
        "import json\n",
        "\n",
        "def get_chat_completions(auth_token, user_message, conversation_history=None):\n",
        "\n",
        "    url = \"https://gigachat.devices.sberbank.ru/api/v1/chat/completions\"\n",
        "\n",
        "    if conversation_history is None:\n",
        "        conversation_history = []\n",
        "\n",
        "    conversation_history.append({\n",
        "        \"role\": \"user\",\n",
        "        \"content\": user_message\n",
        "    })\n",
        "\n",
        "    payload = json.dumps({\n",
        "        \"model\": \"GigaChat:latest\",\n",
        "        \"messages\": conversation_history,\n",
        "        \"temperature\": 1,\n",
        "        \"top_p\": 0.1,\n",
        "        \"n\": 1,\n",
        "        \"stream\": False,\n",
        "        \"max_tokens\": 512,\n",
        "        \"repetition_penalty\": 1,\n",
        "        \"update_interval\": 0\n",
        "    })\n",
        "\n",
        "    headers = {\n",
        "        'Content-Type': 'application/json',\n",
        "        'Accept': 'application/json',\n",
        "        'Authorization': f'Bearer {auth_token}'\n",
        "    }\n",
        "\n",
        "    try:\n",
        "        response = requests.post(url, headers=headers, data=payload, verify=False)\n",
        "        response_data = response.json()\n",
        "        print(response_data)\n",
        "\n",
        "        conversation_history.append({\n",
        "            \"role\": \"assistant\",\n",
        "            \"content\": response_data['choices'][0]['message']['content']\n",
        "        })\n",
        "\n",
        "        return response, conversation_history\n",
        "    except requests.RequestException as e:\n",
        "        print(f\"Произошла ошибка: {str(e)}\")\n",
        "        return None, conversation_history"
      ],
      "metadata": {
        "id": "WAz0tjNyroTK"
      },
      "execution_count": null,
      "outputs": []
    }
  ]
}